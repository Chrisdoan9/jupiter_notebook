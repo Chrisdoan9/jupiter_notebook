{
 "cells": [
  {
   "cell_type": "code",
   "execution_count": 2,
   "id": "71c40d90",
   "metadata": {},
   "outputs": [],
   "source": [
    "import numpy as np\n",
    "import pandas as pd\n",
    "from pandas import Series, DataFrame"
   ]
  },
  {
   "cell_type": "code",
   "execution_count": 5,
   "id": "b079f707",
   "metadata": {},
   "outputs": [
    {
     "data": {
      "text/plain": [
       "row 1    0\n",
       "row 2    1\n",
       "row 3    2\n",
       "dtype: int64"
      ]
     },
     "execution_count": 5,
     "metadata": {},
     "output_type": "execute_result"
    }
   ],
   "source": [
    "series_obj=Series(np.arange(3), index=['row 1','row 2', 'row 3'])\n",
    "series_obj"
   ]
  },
  {
   "cell_type": "code",
   "execution_count": 6,
   "id": "815e5634",
   "metadata": {},
   "outputs": [
    {
     "data": {
      "text/plain": [
       "1"
      ]
     },
     "execution_count": 6,
     "metadata": {},
     "output_type": "execute_result"
    }
   ],
   "source": [
    "series_obj['row 2']"
   ]
  },
  {
   "cell_type": "code",
   "execution_count": 10,
   "id": "ce7c508e",
   "metadata": {},
   "outputs": [
    {
     "data": {
      "text/plain": [
       "row 1    0\n",
       "row 2    1\n",
       "dtype: int64"
      ]
     },
     "execution_count": 10,
     "metadata": {},
     "output_type": "execute_result"
    }
   ],
   "source": [
    "series_obj[[0,1]]"
   ]
  },
  {
   "cell_type": "code",
   "execution_count": 30,
   "id": "0b2b95b8",
   "metadata": {},
   "outputs": [
    {
     "data": {
      "text/html": [
       "<div>\n",
       "<style scoped>\n",
       "    .dataframe tbody tr th:only-of-type {\n",
       "        vertical-align: middle;\n",
       "    }\n",
       "\n",
       "    .dataframe tbody tr th {\n",
       "        vertical-align: top;\n",
       "    }\n",
       "\n",
       "    .dataframe thead th {\n",
       "        text-align: right;\n",
       "    }\n",
       "</style>\n",
       "<table border=\"1\" class=\"dataframe\">\n",
       "  <thead>\n",
       "    <tr style=\"text-align: right;\">\n",
       "      <th></th>\n",
       "      <th>col1</th>\n",
       "      <th>col2</th>\n",
       "      <th>col3</th>\n",
       "      <th>col4</th>\n",
       "      <th>col5</th>\n",
       "      <th>col6</th>\n",
       "    </tr>\n",
       "  </thead>\n",
       "  <tbody>\n",
       "    <tr>\n",
       "      <th>row 1</th>\n",
       "      <td>0.417022</td>\n",
       "      <td>0.720324</td>\n",
       "      <td>0.000114</td>\n",
       "      <td>0.302333</td>\n",
       "      <td>0.146756</td>\n",
       "      <td>0.092339</td>\n",
       "    </tr>\n",
       "    <tr>\n",
       "      <th>row 2</th>\n",
       "      <td>0.186260</td>\n",
       "      <td>0.345561</td>\n",
       "      <td>0.396767</td>\n",
       "      <td>0.538817</td>\n",
       "      <td>0.419195</td>\n",
       "      <td>0.685220</td>\n",
       "    </tr>\n",
       "    <tr>\n",
       "      <th>row 3</th>\n",
       "      <td>0.204452</td>\n",
       "      <td>0.878117</td>\n",
       "      <td>0.027388</td>\n",
       "      <td>0.670468</td>\n",
       "      <td>0.417305</td>\n",
       "      <td>0.558690</td>\n",
       "    </tr>\n",
       "    <tr>\n",
       "      <th>row 4</th>\n",
       "      <td>0.140387</td>\n",
       "      <td>0.198101</td>\n",
       "      <td>0.800745</td>\n",
       "      <td>0.968262</td>\n",
       "      <td>0.313424</td>\n",
       "      <td>0.692323</td>\n",
       "    </tr>\n",
       "    <tr>\n",
       "      <th>row 5</th>\n",
       "      <td>0.876389</td>\n",
       "      <td>0.894607</td>\n",
       "      <td>0.085044</td>\n",
       "      <td>0.039055</td>\n",
       "      <td>0.169830</td>\n",
       "      <td>0.878143</td>\n",
       "    </tr>\n",
       "    <tr>\n",
       "      <th>row 6</th>\n",
       "      <td>0.098347</td>\n",
       "      <td>0.421108</td>\n",
       "      <td>0.957890</td>\n",
       "      <td>0.533165</td>\n",
       "      <td>0.691877</td>\n",
       "      <td>0.315516</td>\n",
       "    </tr>\n",
       "  </tbody>\n",
       "</table>\n",
       "</div>"
      ],
      "text/plain": [
       "           col1      col2      col3      col4      col5      col6\n",
       "row 1  0.417022  0.720324  0.000114  0.302333  0.146756  0.092339\n",
       "row 2  0.186260  0.345561  0.396767  0.538817  0.419195  0.685220\n",
       "row 3  0.204452  0.878117  0.027388  0.670468  0.417305  0.558690\n",
       "row 4  0.140387  0.198101  0.800745  0.968262  0.313424  0.692323\n",
       "row 5  0.876389  0.894607  0.085044  0.039055  0.169830  0.878143\n",
       "row 6  0.098347  0.421108  0.957890  0.533165  0.691877  0.315516"
      ]
     },
     "execution_count": 30,
     "metadata": {},
     "output_type": "execute_result"
    }
   ],
   "source": [
    "np.random.seed(1)\n",
    "DF_obj=DataFrame(np.random.rand(36).reshape(6,6), \n",
    "            index = ['row 1','row 2','row 3','row 4', 'row 5', 'row 6'],\n",
    "            columns = ['col1','col2','col3','col4','col5','col6'])\n",
    "DF_obj"
   ]
  },
  {
   "cell_type": "code",
   "execution_count": null,
   "id": "7cd06678",
   "metadata": {},
   "outputs": [],
   "source": []
  }
 ],
 "metadata": {
  "kernelspec": {
   "display_name": "Python 3",
   "language": "python",
   "name": "python3"
  },
  "language_info": {
   "codemirror_mode": {
    "name": "ipython",
    "version": 3
   },
   "file_extension": ".py",
   "mimetype": "text/x-python",
   "name": "python",
   "nbconvert_exporter": "python",
   "pygments_lexer": "ipython3",
   "version": "3.8.8"
  }
 },
 "nbformat": 4,
 "nbformat_minor": 5
}

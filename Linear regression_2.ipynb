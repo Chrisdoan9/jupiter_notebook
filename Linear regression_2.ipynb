{
 "cells": [
  {
   "cell_type": "code",
   "execution_count": 340,
   "id": "3e32d1cb",
   "metadata": {},
   "outputs": [],
   "source": [
    "import pandas as pd\n",
    "import numpy as np\n",
    "import sklearn\n",
    "from sklearn import linear_model\n",
    "from sklearn.utils import shuffle\n",
    "import matplotlib.pyplot as pyplot\n",
    "import pickle\n",
    "from matplotlib import style"
   ]
  },
  {
   "cell_type": "code",
   "execution_count": 341,
   "id": "a2c696ae",
   "metadata": {},
   "outputs": [],
   "source": [
    "df = pd.read_csv(\"data.csv\")\n",
    "df = df[[\"rs1048945_C\",\"rs1052133_G\",\"rs1064039_T\",\"rs10793294_C\",\"rs10883631_G\",\"rs10883642_G\",\\\n",
    "             \"rs11225434_C\",\"rs113263161_A\",\"rs1133174_A\",\"rs11574428_A\",\"rs11575821_A\",\"rs1207568_A\",\\\n",
    "             \"rs13113697_T\",\"rs1468063_T\",\"rs1566728_C\",\"rs16944_A\",\"rs1799990_G\",\"rs1800629_A\",\\\n",
    "             \"rs1800764_C\",\"rs1800796_C\",\"rs1801394_G\",\"rs2047812_A\",\"rs2227729_G\",\"rs2228145_C\",\\\n",
    "             \"rs2228467_C\",\"rs2229238_T\",\"rs2267163_T\",\"rs2283368_C\",\"rs2465481_A\",\"rs2714465_G\",\\\n",
    "             \"rs3092960_A\",\"rs3131609_C\",\"rs360722_A\",\"rs3865444_A\",\"rs4147929_A\",\"rs429358_C\",\\\n",
    "             \"rs4316_T\",\"rs4845622_C\",\"rs4968782_G\",\"rs55636820_A\",\"rs562020_A\",\"rs573521_A\",\\\n",
    "             \"rs5744256_G\",\"rs603050_T\",\"rs611646_T\",\"rs61812598_A\",\"rs6441977_A\",\"rs650108_A\",\\\n",
    "             \"rs6762266_C\",\"rs679620_T\",\"rs6808835_T\",\"rs7110631_C\",\"rs7396366_C\",\"rs7412_T\",\\\n",
    "             \"rs7497104_T\",\"rs7926920_A\",\"rs9267487_C\",\"rs9349407_C\",\"rs948399_C\",\"rs9527025_C\",\\\n",
    "             \"rs3219484_T\",\"rs12752888_C\",\"rs1539053_A\",\"rs3811448_A\",\"rs4129267_T\",\"rs915179_G\",\\\n",
    "            \"rs9919256_A\",\"rs6131_T\",\"rs3818361_A\",\"rs1260326_C\",\"rs744373_G\",\"rs7561528_A\",\\\n",
    "             \"rs11894266_C\",\"rs6747918_A\",\"rs2929408_A\",\"rs737267_T\",\"rs9461448_G\",\"rs9446432_C\",\\\n",
    "             \"rs9384428_C\",\"rs4646450_A\",\"rs11767557_C\",\"rs11771145_A\",\"rs11136000_T\",\"rs1157242_T\",\\\n",
    "             \"rs7840202_C\",\"rs7920721_G\",\"rs7905675_A\",\"rs17117126_G\",\"rs6265_T\",\"rs1566729_T\",\\\n",
    "             \"rs583791_C\",\"rs610932_T\",\"rs662196_C\",\"rs670139_T\",\"rs676309_C\",\"rs11827375_A\",\\\n",
    "             \"rs3851179_T\",\"rs541458_C\",\"rs10501927_G\",\"rs495366_A\",\"rs645419_A\",\"rs10502262_T\",\\\n",
    "             \"rs1614735_G\",\"rs2298813_A\",\"rs3781835_A\",\"rs4935774_C\",\"rs4363657_C\",\"rs1799986_T\",\\\n",
    "             \"rs398655_C\",\"rs648202_T\",\"rs9526984_G\",\"rs9527024_A\",\"rs9536314_G\",\"rs2287396_T\",\\\n",
    "             \"rs7175373_C\",\"rs129968_A\",\"rs3785880_G\",\"rs2526378_G\",\"rs4343_A\",\"rs4459609_C\",\\\n",
    "             \"rs3764650_G\",\"rs157580_G\",\"rs2075650_G\",\"rs405509_T\",\"rs597668_C\",\"rs6859_A\",\\\n",
    "             \"rs8106922_G\",\"rs17411904_C\",\"rs2833383_T\",\"rs4646316_T\",\"rs4680_A\",\"rs740234_G\",\"AXNFRAIL_3\"]]\n",
    "df = df.dropna()"
   ]
  },
  {
   "cell_type": "code",
   "execution_count": 342,
   "id": "c158ee2f",
   "metadata": {},
   "outputs": [],
   "source": [
    "predict =\"AXNFRAIL_3\"\n",
    "x = df.drop(columns=\"AXNFRAIL_3\")\n",
    "y = df[[predict]]"
   ]
  },
  {
   "cell_type": "code",
   "execution_count": 343,
   "id": "9443c9c4",
   "metadata": {},
   "outputs": [],
   "source": [
    "from sklearn.model_selection import train_test_split"
   ]
  },
  {
   "cell_type": "code",
   "execution_count": 344,
   "id": "97b13a39",
   "metadata": {},
   "outputs": [],
   "source": [
    "X_train, X_test, y_train, y_test  = train_test_split(x,y, test_size = 0.1)"
   ]
  },
  {
   "cell_type": "code",
   "execution_count": 345,
   "id": "4fda3e63",
   "metadata": {},
   "outputs": [],
   "source": [
    "linear = linear_model.LinearRegression()"
   ]
  },
  {
   "cell_type": "code",
   "execution_count": 346,
   "id": "992e0a4b",
   "metadata": {},
   "outputs": [
    {
     "data": {
      "text/plain": [
       "LinearRegression()"
      ]
     },
     "execution_count": 346,
     "metadata": {},
     "output_type": "execute_result"
    }
   ],
   "source": [
    "linear.fit(X_train, y_train)"
   ]
  },
  {
   "cell_type": "code",
   "execution_count": 347,
   "id": "9b7b5e21",
   "metadata": {},
   "outputs": [],
   "source": [
    "acc = linear.score(X_test, y_test)"
   ]
  },
  {
   "cell_type": "code",
   "execution_count": 348,
   "id": "2d5db921",
   "metadata": {},
   "outputs": [
    {
     "name": "stdout",
     "output_type": "stream",
     "text": [
      "-0.06829781755998332\n"
     ]
    }
   ],
   "source": [
    "print(acc)"
   ]
  },
  {
   "cell_type": "code",
   "execution_count": 156,
   "id": "3f6ed1dd",
   "metadata": {},
   "outputs": [],
   "source": [
    "#with open(\"frai.pickle\",\"wb\") as f:\n",
    "#    pickle.dump(linear,f)\n"
   ]
  },
  {
   "cell_type": "code",
   "execution_count": 157,
   "id": "9819d365",
   "metadata": {},
   "outputs": [],
   "source": [
    "pickle_in = open(\"frai.pickle\",\"rb\")\n",
    "liner = pickle.load(pickle_in)"
   ]
  },
  {
   "cell_type": "code",
   "execution_count": 158,
   "id": "541386e8",
   "metadata": {},
   "outputs": [
    {
     "name": "stdout",
     "output_type": "stream",
     "text": [
      "-0.24967223663228877\n"
     ]
    }
   ],
   "source": [
    "acc = linear.score(X_test, y_test)\n",
    "print(acc)"
   ]
  },
  {
   "cell_type": "code",
   "execution_count": null,
   "id": "9ca7654d",
   "metadata": {},
   "outputs": [],
   "source": []
  }
 ],
 "metadata": {
  "kernelspec": {
   "display_name": "Python 3",
   "language": "python",
   "name": "python3"
  },
  "language_info": {
   "codemirror_mode": {
    "name": "ipython",
    "version": 3
   },
   "file_extension": ".py",
   "mimetype": "text/x-python",
   "name": "python",
   "nbconvert_exporter": "python",
   "pygments_lexer": "ipython3",
   "version": "3.8.8"
  }
 },
 "nbformat": 4,
 "nbformat_minor": 5
}
